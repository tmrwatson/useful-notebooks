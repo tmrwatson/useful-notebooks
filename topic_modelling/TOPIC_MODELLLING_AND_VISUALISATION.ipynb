{
  "cells": [
    {
      "cell_type": "code",
      "execution_count": null,
      "metadata": {
        "id": "lanjultyta4Y"
      },
      "outputs": [],
      "source": [
        "## INSTALLS\n",
        "\n",
        "!pip install bertopic"
      ]
    },
    {
      "cell_type": "code",
      "execution_count": null,
      "metadata": {
        "id": "Ze-4oGgIqXcA"
      },
      "outputs": [],
      "source": [
        "## IMPORTS\n",
        "\n",
        "import pandas as pd\n",
        "import nltk\n",
        "nltk.download('stopwords')\n",
        "from nltk.corpus import stopwords\n",
        "from bertopic import BERTopic\n",
        "import numpy as np\n",
        "from os import path\n",
        "import matplotlib.pyplot as plt\n",
        "from sklearn.feature_extraction.text import TfidfVectorizer\n",
        "import matplotlib.pyplot as plt"
      ]
    },
    {
      "cell_type": "code",
      "execution_count": null,
      "metadata": {
        "id": "O9fPCEgwqege"
      },
      "outputs": [],
      "source": [
        "## LOAD IN YOUR DATA & ESTABLISH FOLDER FOR SAVING RESULTS\n",
        "\n",
        "DATA = \"/content/drive/MyDrive/Data/modelling_paper_1/search_1/scopus.csv\"\n",
        "SAVE_FILEPATH = \"/content/drive/MyDrive/Data/modelling_paper_1/search_1/temp\"\n",
        "\n",
        "## READ YOUR DATA\n",
        "\n",
        "df = pd.read_csv(DATA)\n",
        "df.head()"
      ]
    },
    {
      "cell_type": "code",
      "execution_count": null,
      "metadata": {
        "id": "gxaIO655n6f-"
      },
      "outputs": [],
      "source": [
        "## SET UP FUNCTIONS"
      ]
    },
    {
      "cell_type": "code",
      "execution_count": null,
      "metadata": {
        "id": "RCBsBVqWqxIs"
      },
      "outputs": [],
      "source": [
        "## GENERATE PLOT TO SHOW PUBLICATIONS OVER TIME\n",
        "\n",
        "def plot_freq_over_time(df,\n",
        "                        year_col,\n",
        "                        title_col,\n",
        "                        save_name=\"publications_over_time.eps\",\n",
        "                        save_format=\"eps\",\n",
        "                        save_path=SAVE_FILEPATH,\n",
        "                        x_label=\"Year\",\n",
        "                        y_label=\"Number of Publications\"):\n",
        "  \"\"\"\n",
        "  This function generates (and saves locally) a figure representing the number of papers within the corpus published over time.\n",
        "\n",
        "  :param df: (DataFrame) pandas DataFrame containing data/metadata derived from paper database download.\n",
        "  :param year_col: (str) the name of the column containing the date information\n",
        "  :param title_col: (str) the name of the column containing the paper titles\n",
        "  :param save_name: (str) the name you wish to save the plot under, including file extension. Defaults to \"publications_over_time.eps\"\n",
        "  :param save_format: (str) the format in which you wish to save the file. Default is \"eps\"\n",
        "  :param save_path: (str) the file location you wish to save the file to\n",
        "  :param x_label: (str) the x-axis label. Defaults to \"Year\"\n",
        "  :param y_label: (str) the y-axis label. Defaults to \"Number of Publications\"\n",
        "\n",
        "  Returns\n",
        "  Saves image file to specified location.\n",
        "  \"\"\"\n",
        "  # create a dataframe only containing the sub-set of interest\n",
        "  year_df = df[[year_col, title_col]]\n",
        "  # group the dataframe by year\n",
        "  year_df = year_df.groupby(year_col).count()\n",
        "  year_df = year_df.reset_index()\n",
        "  # ensure that your date column is formatted as integers\n",
        "  year_df[year_col] = year_df[year_col].astype(int)\n",
        "\n",
        "  # plot the figure\n",
        "  tick_labels = year_df[year_col]\n",
        "  timeseries = year_df.plot(x = year_col, y = title_col)\n",
        "  timeseries.set_xlabel(x_label)\n",
        "  timeseries.set_ylabel(y_label)\n",
        "\n",
        "  # save the figure\n",
        "  timeseries.figure.savefig(SAVE_FILEPATH + save_name, format=save_format)"
      ]
    },
    {
      "cell_type": "code",
      "execution_count": null,
      "metadata": {
        "id": "op7mpsBStY5e"
      },
      "outputs": [],
      "source": [
        "## GENERATE PLOT TO SHOW WHICH JOURNALS ARE PUBLISHED IN MOST FREQUENTLY WITHIN THIS RESEARCH AREA\n",
        "\n",
        "def journal_popularity_plot(df,\n",
        "                            journal_col,\n",
        "                            title_col,\n",
        "                            save_name=\"top_20_journals.eps\",\n",
        "                            save_format=\"eps\",\n",
        "                            save_path=SAVE_FILEPATH,\n",
        "                            x_label='Journal',\n",
        "                            y_label='Number of Publications'):\n",
        "  \"\"\"\n",
        "  This function plots (and saves locally) a figure showing the top 20 journals within the corpus (by publication volume) and\n",
        "  their relative number of papers.\n",
        "\n",
        "  :param df: (DataFrame) pandas DataFrame containing data/metadata derived from paper database download.\n",
        "  :param journal_col: (str) the name of the column containing the journal name information\n",
        "  :param title_col: (str) the name of the column containing the paper titles\n",
        "  :param save_name: (str) the name you wish to save the plot under, including file extension. Defaults to \"top_20_journals.eps\"\n",
        "  :param save_format: (str) the format in which you wish to save the file. Default is \"eps\"\n",
        "  :param save_path: (str) the file location you wish to save the file to\n",
        "  :param x_label: (str) the x-axis label. Defaults to \"Journal\"\n",
        "  :param y_label: (str) the y-axis label. Defaults to \"Number of Publications\"\n",
        "\n",
        "  Returns\n",
        "  Saves image file to specified location.\n",
        "  \"\"\"\n",
        "  journals = df.groupby(df[journal_col]).count()\n",
        "  journals = journals.reset_index()\n",
        "  journals = journals[[journal_col, title_col]]\n",
        "  journals = journals.rename(columns = {title_col: \"Freq\"})\n",
        "  journals = journals.sort_values(by=[\"Freq\"], ascending = False)\n",
        "  # print how many journals there are within the corpus\n",
        "  print(f\"There are {len(journals)} journals within this corpus.\")\n",
        "\n",
        "  # plot figure to show top 20 most-published-in journals\n",
        "  journals_plot = journals[:20].plot.bar(x = journal_col, y = \"Freq\", legend = False)\n",
        "  journals_plot.set_xlabel(x_label)\n",
        "  journals_plot.set_ylabel(y_label)\n",
        "\n",
        "  # save the figure\n",
        "  journals_plot.figure.savefig(save_path + save_name, format=save_format)"
      ]
    },
    {
      "cell_type": "code",
      "execution_count": null,
      "metadata": {
        "id": "T2w5XkdfwZ19"
      },
      "outputs": [],
      "source": [
        "## DETERMINE THE LANGUAGE PROFILE OF THE CORPUS & DROP PAPERS THAT AREN'T IN ENGLISH\n",
        "\n",
        "def get_language_profile(df,\n",
        "                         language_col,\n",
        "                         title_col,\n",
        "                         save_name=\"top_languages.eps\",\n",
        "                         save_format=\"eps\",\n",
        "                         save_path=SAVE_FILEPATH,\n",
        "                         x_label=\"Language\",\n",
        "                         y_label=\"Number of Publications\"):\n",
        "  \"\"\"\n",
        "  This is a function to plot the distribution of different languages present within the corpus, then drop all non-English papers.\n",
        "  It returns a locally saved figure and a dataframe containing only English-language papers.\n",
        "\n",
        "  :param df: (DataFrame) pandas DataFrame containing data/metadata derived from paper database download\n",
        "  :param language_col: (str) the name of the column containing the journal name information\n",
        "  :param title_col: (str) the name of the column containing the paper titles\n",
        "  :param save_name: (str) the name you wish to save the plot under, including file extension. Defaults to \"top_20_journals.eps\"\n",
        "  :param save_format: (str) the format in which you wish to save the file. Default is \"eps\"\n",
        "  :param save_path: (str) the file location you wish to save the file to\n",
        "  :param x_label: (str) the x-axis label. Defaults to \"Journal\"\n",
        "  :param y_label: (str) the y-axis label. Defaults to \"Number of Publications\"\n",
        "\n",
        "  Returns\n",
        "  :df: (DataFrame) pandas DataFrame\n",
        "  Saves image file to specified location.\n",
        "  \"\"\"\n",
        "  lang = df.groupby(df[language_col]).count()\n",
        "  lang = lang.reset_index()\n",
        "  lang = lang[[language_col, title_col]]\n",
        "  lang = lang.sort_values(by=[title_col], ascending = False)\n",
        "\n",
        "  # plot figure\n",
        "  top_langs = lang.plot.bar(x = language_col, y = title_col, legend = False)\n",
        "  top_langs.set_xlabel(x_label)\n",
        "  top_langs.set_ylabel(y_label)\n",
        "  top_langs.figure.savefig(save_path + save_name, format=save_format)\n",
        "\n",
        "  # drop non-English papers\n",
        "  temp_df = df\n",
        "  # only keep columns where the language is specified to be English\n",
        "  df = df[df[language_col] == \"English\"]\n",
        "  # check how many papers were not in English\n",
        "  print(f\"There were {len(temp_df)} papers in the original corpus. {len(temp_df) - len(df)} were non-English. {len(df)} were in English.\")\n",
        "\n",
        "  return df"
      ]
    },
    {
      "cell_type": "code",
      "execution_count": null,
      "metadata": {
        "id": "H3veX1dyzGOD"
      },
      "outputs": [],
      "source": [
        "## UNDERTAKE TOPIC MODELLING\n",
        "\n",
        "def topic_modelling(df, col_to_cluster_on, additional_stopwords):\n",
        "  \"\"\"\n",
        "  This function clusters the content in a given column into unsupervised topics and returns a dataframe with topic information.\n",
        "\n",
        "  :param df: (DataFrame) pandas DataFrame containing data/metadata derived from paper database download.\n",
        "  :param col_to_cluster_on: (str) the name of the column containing the information you wish to cluster (paper abstracts are recommended)\n",
        "  :additional_stopwords: (list) list of any additional stopwords on top of the classic NLTK provided ones (as strings)\n",
        "\n",
        "  Returns\n",
        "  :topic_df: (DataFrame)\n",
        "  \"\"\"\n",
        "\n",
        "  # remove stopwords\n",
        "  additional_stopwords = additional_stopwords\n",
        "  stop = stopwords.words('english') + additional_stopwords\n",
        "  df['no_stopwords'] = df[col_to_cluster_on].apply(lambda x: ' '.join([word for word in x.split() if word not in (stop)]))\n",
        "\n",
        "  # initialise the BERTopic model\n",
        "  topic_model = BERTopic()\n",
        "  # apply the topic model to your data, generating topics & associated probabilities\n",
        "  topics, probs = topic_model.fit_transform(df[\"no_stopwords\"])\n",
        "  # assign the topic infomation to a variable\n",
        "  _topics = topic_model.get_topic_info()\n",
        "  # create a new dataframe containing the topics and their associated content\n",
        "  topic_assignments = pd.DataFrame({'Topic': topic_model.topics_,'no_stopwords': df['no_stopwords']})\n",
        "  # combine the original dataframe and the topic assignments so you have everything in one place\n",
        "  topic_df = pd.merge(df, topic_assignments, on = \"no_stopwords\", how = \"inner\")\n",
        "  topic_df = pd.merge(topic_df, _topics, on = \"Topic\", how = \"inner\")\n",
        "\n",
        "  return topic_df"
      ]
    },
    {
      "cell_type": "code",
      "execution_count": null,
      "metadata": {
        "id": "lKyhStPYjTlx"
      },
      "outputs": [],
      "source": [
        "def topics_over_time(df,\n",
        "                     year_col,\n",
        "                     cluster_name_col,\n",
        "                     count_col,\n",
        "                     save_name=\"clusters_over_time.eps\",\n",
        "                     save_format=\"eps\",\n",
        "                     save_path=SAVE_FILEPATH,\n",
        "                     x_label=\"Year\",\n",
        "                     y_label=\"Number of Publications\"):\n",
        "  \"\"\"\n",
        "  Function to render visualisation of the number of papers per cluster over time. It returns a locally saved figure.\n",
        "\n",
        "  :param df: (DataFrame) pandas DataFrame containing data/metadata derived from paper database download.\n",
        "  :param year_col: (str) name of the column containing date information\n",
        "  :param cluster_name_col: (str) name of the column with cluster name inforation, derived from topic modelling\n",
        "  :param count_col: (str) name of the column with document frequency per cluster, derived from topic mocelling\n",
        "  :param save_name: (str) the name you wish to save the plot under, including file extension. Defaults to \"top_20_journals.eps\"\n",
        "  :param save_format: (str) the format in which you wish to save the file. Default is \"eps\"\n",
        "  :param save_path: (str) the file location you wish to save the file to\n",
        "  :param x_label: (str) the x-axis label. Defaults to \"Journal\"\n",
        "  :param y_label: (str) the y-axis label. Defaults to \"Number of Publications\"\n",
        "\n",
        "  Returns\n",
        "  Saves image file to specified location.\n",
        "  \"\"\"\n",
        "  temp_df = df.groupby([year_col, cluster_name_col]).count().reset_index()\n",
        "  temp_df = temp_df[[year_col, cluster_name_col, count_col]]\n",
        "  temp_df = temp_df.pivot(index=year_col, columns=cluster_name_col, values=count_col)\n",
        "  cluster_freq_over_time = temp_df.plot.line(legend = False)\n",
        "  cluster_freq_over_time.legend(fontsize = \"xx-small\")\n",
        "  cluster_freq_over_time.set_xlabel(x_label)\n",
        "  cluster_freq_over_time.set_ylabel(y_label)\n",
        "  cluster_freq_over_time.figure.savefig(save_path + save_name, bbox_inches = \"tight\", format=save_format)"
      ]
    },
    {
      "cell_type": "code",
      "execution_count": null,
      "metadata": {
        "id": "Vmhiz0rSoACW"
      },
      "outputs": [],
      "source": [
        "## GENERATE YOUR OUTPUTS"
      ]
    },
    {
      "cell_type": "code",
      "execution_count": null,
      "metadata": {
        "id": "BvSki2UFs_S6"
      },
      "outputs": [],
      "source": [
        "plot_freq_over_time(df, \"Year\", \"Title\")"
      ]
    },
    {
      "cell_type": "code",
      "execution_count": null,
      "metadata": {
        "id": "WQzVb8Z9wN0D"
      },
      "outputs": [],
      "source": [
        "journal_popularity_plot(df, \"Source title\", \"Title\")"
      ]
    },
    {
      "cell_type": "code",
      "execution_count": null,
      "metadata": {
        "id": "_t7Rz-_wy7Wc"
      },
      "outputs": [],
      "source": [
        "df = get_language_profile(df, \"Language of Original Document\", \"Title\")\n",
        "df"
      ]
    },
    {
      "cell_type": "code",
      "execution_count": null,
      "metadata": {
        "id": "8D6btXcRgT7C"
      },
      "outputs": [],
      "source": [
        "df = topic_modelling(df, \"Abstract\", additional_stopwords = [\"and\", \"the\", \"The\", \"of\", \"in\", \"to\", \"this\"])\n",
        "df.head()"
      ]
    },
    {
      "cell_type": "code",
      "execution_count": null,
      "metadata": {
        "id": "DrxGq6G6k9zF"
      },
      "outputs": [],
      "source": [
        "topics_over_time(df, \"Year\", \"Name\", \"Count\")"
      ]
    },
    {
      "cell_type": "code",
      "execution_count": null,
      "metadata": {
        "id": "UjYu_HRDnGoQ"
      },
      "outputs": [],
      "source": []
    }
  ],
  "metadata": {
    "colab": {
      "provenance": []
    },
    "kernelspec": {
      "display_name": "Python 3",
      "name": "python3"
    },
    "language_info": {
      "name": "python"
    }
  },
  "nbformat": 4,
  "nbformat_minor": 0
}
